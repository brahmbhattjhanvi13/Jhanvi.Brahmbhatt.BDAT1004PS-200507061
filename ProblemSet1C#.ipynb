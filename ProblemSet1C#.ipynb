{
 "cells": [
  {
   "cell_type": "markdown",
   "id": "cde27059",
   "metadata": {},
   "source": [
    "# This is Questions 1 to 5 for .Net(C#)."
   ]
  },
  {
   "cell_type": "markdown",
   "id": "1159f367",
   "metadata": {},
   "source": [
    "(Q1) What data type is each of the following?\n",
    "5\n",
    "5.0\n",
    "5 > 1\n",
    "'5'\n",
    "5 * 2\n",
    "'5' * 2\n",
    "'5' + '2'\n",
    "5 / 2\n",
    "5 % 2\n",
    "{5, 2, 1}\n",
    "5 == 3\n",
    "Pi (the number)"
   ]
  },
  {
   "cell_type": "code",
   "execution_count": 1,
   "id": "161a777f",
   "metadata": {},
   "outputs": [
    {
     "data": {
      "text/html": [
       "\r\n",
       "<div>\r\n",
       "    <div id='dotnet-interactive-this-cell-12140.Microsoft.DotNet.Interactive.Http.HttpPort' style='display: none'>\r\n",
       "        The below script needs to be able to find the current output cell; this is an easy method to get it.\r\n",
       "    </div>\r\n",
       "    <script type='text/javascript'>\r\n",
       "async function probeAddresses(probingAddresses) {\r\n",
       "    function timeout(ms, promise) {\r\n",
       "        return new Promise(function (resolve, reject) {\r\n",
       "            setTimeout(function () {\r\n",
       "                reject(new Error('timeout'))\r\n",
       "            }, ms)\r\n",
       "            promise.then(resolve, reject)\r\n",
       "        })\r\n",
       "    }\r\n",
       "\r\n",
       "    if (Array.isArray(probingAddresses)) {\r\n",
       "        for (let i = 0; i < probingAddresses.length; i++) {\r\n",
       "\r\n",
       "            let rootUrl = probingAddresses[i];\r\n",
       "\r\n",
       "            if (!rootUrl.endsWith('/')) {\r\n",
       "                rootUrl = `${rootUrl}/`;\r\n",
       "            }\r\n",
       "\r\n",
       "            try {\r\n",
       "                let response = await timeout(1000, fetch(`${rootUrl}discovery`, {\r\n",
       "                    method: 'POST',\r\n",
       "                    cache: 'no-cache',\r\n",
       "                    mode: 'cors',\r\n",
       "                    timeout: 1000,\r\n",
       "                    headers: {\r\n",
       "                        'Content-Type': 'text/plain'\r\n",
       "                    },\r\n",
       "                    body: probingAddresses[i]\r\n",
       "                }));\r\n",
       "\r\n",
       "                if (response.status == 200) {\r\n",
       "                    return rootUrl;\r\n",
       "                }\r\n",
       "            }\r\n",
       "            catch (e) { }\r\n",
       "        }\r\n",
       "    }\r\n",
       "}\r\n",
       "\r\n",
       "function loadDotnetInteractiveApi() {\r\n",
       "    probeAddresses([\"http://192.168.108.1:2049/\", \"http://192.168.233.1:2049/\", \"http://10.0.0.240:2049/\", \"http://127.0.0.1:2049/\"])\r\n",
       "        .then((root) => {\r\n",
       "        // use probing to find host url and api resources\r\n",
       "        // load interactive helpers and language services\r\n",
       "        let dotnetInteractiveRequire = require.config({\r\n",
       "        context: '12140.Microsoft.DotNet.Interactive.Http.HttpPort',\r\n",
       "                paths:\r\n",
       "            {\r\n",
       "                'dotnet-interactive': `${root}resources`\r\n",
       "                }\r\n",
       "        }) || require;\r\n",
       "\r\n",
       "            window.dotnetInteractiveRequire = dotnetInteractiveRequire;\r\n",
       "\r\n",
       "            window.configureRequireFromExtension = function(extensionName, extensionCacheBuster) {\r\n",
       "                let paths = {};\r\n",
       "                paths[extensionName] = `${root}extensions/${extensionName}/resources/`;\r\n",
       "                \r\n",
       "                let internalRequire = require.config({\r\n",
       "                    context: extensionCacheBuster,\r\n",
       "                    paths: paths,\r\n",
       "                    urlArgs: `cacheBuster=${extensionCacheBuster}`\r\n",
       "                    }) || require;\r\n",
       "\r\n",
       "                return internalRequire\r\n",
       "            };\r\n",
       "        \r\n",
       "            dotnetInteractiveRequire([\r\n",
       "                    'dotnet-interactive/dotnet-interactive'\r\n",
       "                ],\r\n",
       "                function (dotnet) {\r\n",
       "                    dotnet.init(window);\r\n",
       "                },\r\n",
       "                function (error) {\r\n",
       "                    console.log(error);\r\n",
       "                }\r\n",
       "            );\r\n",
       "        })\r\n",
       "        .catch(error => {console.log(error);});\r\n",
       "    }\r\n",
       "\r\n",
       "// ensure `require` is available globally\r\n",
       "if ((typeof(require) !==  typeof(Function)) || (typeof(require.config) !== typeof(Function))) {\r\n",
       "    let require_script = document.createElement('script');\r\n",
       "    require_script.setAttribute('src', 'https://cdnjs.cloudflare.com/ajax/libs/require.js/2.3.6/require.min.js');\r\n",
       "    require_script.setAttribute('type', 'text/javascript');\r\n",
       "    \r\n",
       "    \r\n",
       "    require_script.onload = function() {\r\n",
       "        loadDotnetInteractiveApi();\r\n",
       "    };\r\n",
       "\r\n",
       "    document.getElementsByTagName('head')[0].appendChild(require_script);\r\n",
       "}\r\n",
       "else {\r\n",
       "    loadDotnetInteractiveApi();\r\n",
       "}\r\n",
       "\r\n",
       "    </script>\r\n",
       "</div>"
      ]
     },
     "metadata": {},
     "output_type": "display_data"
    },
    {
     "name": "stdout",
     "output_type": "stream",
     "text": [
      "First Value is of type Int32\n",
      "Second Value is of type Single\n",
      "thirdValue is of type Boolean\n",
      "fourthValue is of type String\n",
      "fifthValue is of type Int32\n",
      "eighthValue is of type Single\n",
      "ninthValue is of type Int32\n",
      "tenthValue is of type Int32[]\n",
      "eleventhValue is of type Boolean\n",
      "twelfthValuePI is of type Double\n"
     ]
    }
   ],
   "source": [
    "        int firstValue = 5;\n",
    "        float secondValue = 5.0f;\n",
    "        bool thirdValue = 5 > 1;\n",
    "        string fourthValue = \"5\"; \n",
    "        int fifthValue = 5 * 2;\n",
    "    //  string sixthvalue = \"5\" * 2;\n",
    "    //  string seventhValue = \"5\" + \"2\";\n",
    "        float eighthValue = 5/2;\n",
    "        int ninthValue = 5 % 2;\n",
    "        dynamic tenthValue = new[] {5,2,1};\n",
    "        bool eleventhValue = 5 == 3;\n",
    "        double twelfthValuePI = 3.14;\n",
    "        \n",
    "        Console.WriteLine(\"First Value is of type \" + firstValue.GetType().Name);\n",
    "        Console.WriteLine(\"Second Value is of type \" + secondValue.GetType().Name);\n",
    "        Console.WriteLine(\"thirdValue is of type \" + thirdValue.GetType().Name);\n",
    "        Console.WriteLine(\"fourthValue is of type \" + fourthValue.GetType().Name);\n",
    "        Console.WriteLine(\"fifthValue is of type \" + fifthValue.GetType().Name);\n",
    "    //  Console.WriteLine(\"sixthvalue is of type \" + sixthvalue.GetType().Name);\n",
    "    //  Console.WriteLine(\"seventhValue is of type \" + seventhValue.GetType().Name);\n",
    "        Console.WriteLine(\"eighthValue is of type \" + eighthValue.GetType().Name);\n",
    "        Console.WriteLine(\"ninthValue is of type \" + ninthValue.GetType().Name);\n",
    "        Console.WriteLine(\"tenthValue is of type \" + tenthValue.GetType().Name);\n",
    "        Console.WriteLine(\"eleventhValue is of type \" + eleventhValue.GetType().Name);\n",
    "        Console.WriteLine(\"twelfthValuePI is of type \" + twelfthValuePI.GetType().Name);\n"
   ]
  },
  {
   "cell_type": "markdown",
   "id": "605b97ca",
   "metadata": {},
   "source": [
    "(Q2) Write (and evaluate) C# expressions that answer these questions:"
   ]
  },
  {
   "cell_type": "markdown",
   "id": "e8bdf0af",
   "metadata": {},
   "source": [
    "a. How many letters are there in 'Supercalifragilisticexpialidocious'?"
   ]
  },
  {
   "cell_type": "code",
   "execution_count": 2,
   "id": "19e88a22",
   "metadata": {},
   "outputs": [
    {
     "name": "stdout",
     "output_type": "stream",
     "text": [
      "The number of letters in Supercalifragilisticexpialidocious is: 34\r\n"
     ]
    }
   ],
   "source": [
    "int word = \"Supercalifragilisticexpialidocious\".Length;\n",
    "Console.WriteLine(\"The number of letters in Supercalifragilisticexpialidocious is: \" + word);  //This is (a)."
   ]
  },
  {
   "cell_type": "markdown",
   "id": "db4395fb",
   "metadata": {},
   "source": [
    "b. Does 'Supercalifragilisticexpialidocious' contain 'ice' as a substring?"
   ]
  },
  {
   "cell_type": "code",
   "execution_count": 3,
   "id": "9fde91a4",
   "metadata": {},
   "outputs": [
    {
     "name": "stdout",
     "output_type": "stream",
     "text": [
      "True or False?Does Supercalifragilisticexpialidocious have 'ice' as a subset : True\r\n"
     ]
    }
   ],
   "source": [
    "bool checkWord = \"Supercalifragilisticexpialidocious\".Contains(\"ice\");\n",
    "Console.WriteLine(\"True or False?Does Supercalifragilisticexpialidocious have 'ice' as a subset : \" + checkWord);  //This is (b)."
   ]
  },
  {
   "cell_type": "markdown",
   "id": "16b64be9",
   "metadata": {},
   "source": [
    "c. Which of the following words is the longest:\n",
    "Supercalifragilisticexpialidocious, Honorificabilitudinitatibus, or\n",
    "Bababadalgharaghtakamminarronnkonn?"
   ]
  },
  {
   "cell_type": "code",
   "execution_count": 4,
   "id": "31b10f35",
   "metadata": {},
   "outputs": [
    {
     "name": "stdout",
     "output_type": "stream",
     "text": [
      "The longest word is Supercalifragilisticexpialidocious,Honorificabilitudinitatibus,Bababadalgharaghtakamminarronnkonn : \n",
      "Supercalifragilisticexpialidocious\r\n"
     ]
    }
   ],
   "source": [
    "string[] words = new string[] {\"Supercalifragilisticexpialidocious\",\"Honorificabilitudinitatibus\", \"Bababadalgharaghtakamminarronnkonn\" };\n",
    "string isItLongestWord = words.OrderByDescending(words => words.Length).First();\n",
    "Console.WriteLine(\"The longest word is Supercalifragilisticexpialidocious,Honorificabilitudinitatibus,Bababadalgharaghtakamminarronnkonn : \" + \"\\n\" + isItLongestWord);  //This is (c)."
   ]
  },
  {
   "cell_type": "markdown",
   "id": "38576d8f",
   "metadata": {},
   "source": [
    "d. Which composer comes first in the dictionary: 'Berlioz', 'Borodin', 'Brian',\n",
    "'Bartok', 'Bellini', 'Buxtehude', 'Bernstein'. Which one comes last?"
   ]
  },
  {
   "cell_type": "code",
   "execution_count": 5,
   "id": "04239ed5",
   "metadata": {},
   "outputs": [
    {
     "name": "stdout",
     "output_type": "stream",
     "text": [
      "The first composer in the dictionary is: Bartok\n",
      "The last composer in the dictionary is: Buxtehude\n"
     ]
    }
   ],
   "source": [
    "string[] listOfComposers = new string[] { \"Berlioz\", \"Borodin\", \"Brian\", \"Bartok\", \"Bellini\", \"Buxtehude\", \"Bernstein\" };\n",
    "string firstPosComposer = listOfComposers.OrderBy(composer => composer).First();\n",
    "string lastPosComposer = listOfComposers.OrderBy(composer => composer).Last();\n",
    "Console.WriteLine(\"The first composer in the dictionary is: \" +firstPosComposer);\n",
    "Console.WriteLine(\"The last composer in the dictionary is: \" +lastPosComposer);     //This is (D)."
   ]
  },
  {
   "cell_type": "markdown",
   "id": "308554c4",
   "metadata": {},
   "source": [
    "(Q3) Implement function triangleArea(a,b,c) that takes as input the lengths of the 3 sides of a triangle and returns the area of the triangle. By Heron's formula, the area of a triangle with side lengths a, b, and c is s(s − a)(s −b)(s −c), where s = (a + b + c)/2.\n",
    "Output->\n",
    "triangleArea(2,2,2)\n",
    "1.7320508075688772"
   ]
  },
  {
   "cell_type": "code",
   "execution_count": 6,
   "id": "69a14017",
   "metadata": {},
   "outputs": [
    {
     "name": "stdout",
     "output_type": "stream",
     "text": [
      "The area of triangle is: 1.7320508075688772\r\n"
     ]
    }
   ],
   "source": [
    "double a =2;\n",
    "double b =2;\n",
    "double c =2;\n",
    "Console.WriteLine(\"The area of triangle is: \" + areaOfTriangle(a,b,c));\n",
    "\n",
    "static double areaOfTriangle(double a,double b,double c)\n",
    "{\n",
    "   double s = (a+b+c)/2;\n",
    "   return Math.Sqrt(s * (s - a) * (s - b) * (s - c));\n",
    "\n",
    "}"
   ]
  },
  {
   "cell_type": "markdown",
   "id": "fee9c3c4",
   "metadata": {},
   "source": [
    "(Q4) Write a program in C# Sharp to separate odd and even integers in separate arrays.\n",
    "Go to the editor\n",
    "Test Data :\n",
    "Input the number of elements to be stored in the array :5\n",
    "Input 5 elements in the array :\n",
    "element - 0 : 25\n",
    "element - 1 : 47\n",
    "element - 2 : 42\n",
    "element - 3 : 56\n",
    "element - 4 : 32\n",
    "\n",
    "Expected Output:\n",
    "The Even elements are:\n",
    "42 56 32\n",
    "The Odd elements are :\n",
    "B\n",
    "25 47"
   ]
  },
  {
   "cell_type": "code",
   "execution_count": 7,
   "id": "19fb3301",
   "metadata": {},
   "outputs": [
    {
     "name": "stdout",
     "output_type": "stream",
     "text": [
      "Odd numbers are: 25, 47\n",
      "Even numbers are: 42, 56, 32\n"
     ]
    }
   ],
   "source": [
    "int[] array = new int[] { 25, 47, 42, 56, 32 };\n",
    "int[] oddArray = array.Where(x => x % 2 != 0).ToArray();\n",
    "int[] evenArray = array.Where(x => x % 2 == 0).ToArray();\n",
    "\n",
    "Console.WriteLine(\"Odd numbers are: \" + string.Join(\", \", oddArray));\n",
    "Console.WriteLine(\"Even numbers are: \" + string.Join(\", \", evenArray));"
   ]
  },
  {
   "cell_type": "markdown",
   "id": "a9fedce0",
   "metadata": {},
   "source": [
    "(Q5) a. Write a function inside(x,y,x1,y1,x2,y2) that returns True or False\n",
    "dependingonwhetherthepoint(x,y)liesintherectanglewithlowerleft\n",
    "corner (x1,y1) and upper right corner (x2,y2).\n",
    "\n",
    "Expected Output:\n",
    "inside(1,1,0,0,2,3)\n",
    "True\n",
    "inside(-1,-1,0,0,2,3)\n",
    "False"
   ]
  },
  {
   "cell_type": "code",
   "execution_count": 11,
   "id": "476188cf",
   "metadata": {},
   "outputs": [
    {
     "name": "stdout",
     "output_type": "stream",
     "text": [
      "True\r\n"
     ]
    }
   ],
   "source": [
    "Console.WriteLine(Inside(1, 1, 0, 0, 2, 3));\n",
    "        static bool Inside(double x, double y, double x1, double y1, double x2, double y2)\n",
    "        {\n",
    "            if (x1 <= x && x <= x2 && y1 <= y && y <= y2)\n",
    "                return true;\n",
    "            else\n",
    "                return false;\n",
    "        }"
   ]
  },
  {
   "cell_type": "code",
   "execution_count": 12,
   "id": "da072910",
   "metadata": {},
   "outputs": [
    {
     "name": "stdout",
     "output_type": "stream",
     "text": [
      "False\r\n"
     ]
    }
   ],
   "source": [
    "Console.WriteLine(Inside(-1,-1,0,0,2,3));\n",
    "        static bool Inside(double x, double y, double x1, double y1, double x2, double y2)\n",
    "        {\n",
    "            if (x1 <= x && x <= x2 && y1 <= y && y <= y2)\n",
    "                return true;\n",
    "            else\n",
    "                return false;\n",
    "        }"
   ]
  },
  {
   "cell_type": "markdown",
   "id": "0bde4d1c",
   "metadata": {},
   "source": [
    "b. Use function inside()from part a. to write an expression that tests whether\n",
    "the point (1,1) lies in both of the following rectangles: one with lower left\n",
    "corner (0.3, 0.5) and upper right corner (1.1, 0.7) and the other with lower\n",
    "left corner (0.5, 0.2) and upper right corner (1.1, 2)"
   ]
  },
  {
   "cell_type": "code",
   "execution_count": 15,
   "id": "8ee1ccc7",
   "metadata": {},
   "outputs": [
    {
     "name": "stdout",
     "output_type": "stream",
     "text": [
      "False\r\n"
     ]
    }
   ],
   "source": [
    "bool rect1 = Inside(1, 1, 0.3, 0.5, 1.1, 0.7);\n",
    "bool rect2 = Inside(1, 1, 0.5, 0.2, 1.1, 2);\n",
    "bool result = rect1 && rect2;\n",
    "Console.WriteLine(result);\n",
    "\n",
    "        static bool Inside(double x, double y, double x1, double y1, double x2, double y2)\n",
    "        {\n",
    "            if (x1 <= x && x <= x2 && y1 <= y && y <= y2)\n",
    "            {\n",
    "                return true;\n",
    "            }\n",
    "            else\n",
    "            {\n",
    "                return false;\n",
    "            }\n",
    "        }"
   ]
  }
 ],
 "metadata": {
  "kernelspec": {
   "display_name": ".NET (C#)",
   "language": "C#",
   "name": ".net-csharp"
  },
  "language_info": {
   "file_extension": ".cs",
   "mimetype": "text/x-csharp",
   "name": "C#",
   "pygments_lexer": "csharp",
   "version": "11.0"
  }
 },
 "nbformat": 4,
 "nbformat_minor": 5
}
